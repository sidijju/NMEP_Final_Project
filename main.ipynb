{
 "cells": [
  {
   "cell_type": "code",
   "execution_count": 2,
   "id": "enormous-default",
   "metadata": {},
   "outputs": [],
   "source": [
    "from scipy import signal\n",
    "from scipy.io import wavfile\n",
    "import cv2\n",
    "import numpy as np\n",
    "import tensorflow as tf\n",
    "import math \n",
    "import scipy.fft\n",
    "import cv2\n",
    "import matplotlib.pyplot as plt\n",
    "import keras\n",
    "from keras import Input\n",
    "from keras.models import Sequential\n",
    "from keras.layers import Dense, Conv2D, Flatten, Conv2DTranspose, Reshape"
   ]
  },
  {
   "cell_type": "code",
   "execution_count": 4,
   "id": "gothic-march",
   "metadata": {},
   "outputs": [],
   "source": [
    "categories = [\"blues\", \"classical\", \"country\", \"disco\", \"hiphop\", \"jazz\", \"metal\", \"pop\", \"reggae\", \"rock\"]\n",
    "\n",
    "import os \n",
    "current_file = os.path.abspath('')\n",
    "data_folder = os.path.join(current_file, \"data\")\n",
    "\n",
    "data = []\n",
    "labels = []\n",
    "sampling_rates = []"
   ]
  },
  {
   "cell_type": "code",
   "execution_count": 7,
   "id": "aggregate-psychiatry",
   "metadata": {},
   "outputs": [
    {
     "name": "stdout",
     "output_type": "stream",
     "text": [
      "D:\\NMEP\\NMEP_Final_Project\\data\n"
     ]
    }
   ],
   "source": [
    "print(data_folder)"
   ]
  },
  {
   "cell_type": "code",
   "execution_count": 5,
   "id": "formal-willow",
   "metadata": {},
   "outputs": [
    {
     "name": "stderr",
     "output_type": "stream",
     "text": [
      "<ipython-input-5-d729321186b9>:21: RuntimeWarning: divide by zero encountered in log\n",
      "  data.append(np.log(spectrogram))\n"
     ]
    }
   ],
   "source": [
    "for category in categories:\n",
    "    data_path = os.path.join(data_folder, \"genres_original/\" + category)\n",
    "    files = os.listdir(data_path)\n",
    "    for f in files:\n",
    "        labels.append(category)\n",
    "        #print(f)\n",
    "        sampling_rate, wav_data = wavfile.read(os.path.join(data_path, f))\n",
    "        #print(sampling_rate, wav_data)\n",
    "        frequencies, times, spectrogram = signal.spectrogram(wav_data, sampling_rate)\n",
    "        \n",
    "        ''' \n",
    "        #Visualizes spectrogram data\n",
    "        plt.pcolormesh(times, frequencies, np.log(spectrogram))\n",
    "        plt.ylabel('Frequency [Hz]')\n",
    "        plt.xlabel('Time [sec]')\n",
    "        plt.show()\n",
    "        '''\n",
    "        #This writes spectrogram data to files, but loses decimal data\n",
    "        #cv2.imwrite('./data/wav_to_spectrogram/'+f[:-4]+'.jpg', np.log(spectrogram))\n",
    "        \n",
    "        data.append(np.log(spectrogram))\n",
    "        sampling_rates.append(sampling_rate)"
   ]
  },
  {
   "cell_type": "code",
   "execution_count": 18,
   "id": "raising-banner",
   "metadata": {},
   "outputs": [
    {
     "name": "stdout",
     "output_type": "stream",
     "text": [
      "(129, 2953)\n",
      "22050\n"
     ]
    }
   ],
   "source": []
  },
  {
   "cell_type": "code",
   "execution_count": null,
   "id": "bacterial-nation",
   "metadata": {},
   "outputs": [],
   "source": []
  },
  {
   "cell_type": "code",
   "execution_count": null,
   "id": "million-wealth",
   "metadata": {},
   "outputs": [],
   "source": []
  }
 ],
 "metadata": {
  "kernelspec": {
   "display_name": "ml",
   "language": "python",
   "name": "ml"
  },
  "language_info": {
   "codemirror_mode": {
    "name": "ipython",
    "version": 3
   },
   "file_extension": ".py",
   "mimetype": "text/x-python",
   "name": "python",
   "nbconvert_exporter": "python",
   "pygments_lexer": "ipython3",
   "version": "3.8.5"
  }
 },
 "nbformat": 4,
 "nbformat_minor": 5
}
